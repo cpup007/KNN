{
 "cells": [
  {
   "cell_type": "markdown",
   "metadata": {},
   "source": [
    "## 数据归一化处理"
   ]
  },
  {
   "cell_type": "code",
   "execution_count": 1,
   "metadata": {},
   "outputs": [],
   "source": [
    "import numpy as np \n",
    "import matplotlib.pyplot as plt"
   ]
  },
  {
   "cell_type": "markdown",
   "metadata": {},
   "source": [
    "## 最值归一化normalization"
   ]
  },
  {
   "cell_type": "code",
   "execution_count": 2,
   "metadata": {},
   "outputs": [],
   "source": [
    "x = np.random.randint(0,100,100)"
   ]
  },
  {
   "cell_type": "code",
   "execution_count": 3,
   "metadata": {},
   "outputs": [
    {
     "data": {
      "text/plain": [
       "array([31, 13, 95, 64, 80, 48,  2, 66,  3, 82, 70, 82, 13, 97, 99, 45, 25,\n",
       "       35, 59, 94, 86, 86, 94,  3,  7, 53, 93, 71, 10, 11, 49, 99, 59, 19,\n",
       "       36, 66, 89, 63, 55, 60, 91, 14, 18,  7, 63,  1, 78, 19, 58,  1, 92,\n",
       "       45, 41, 49, 78, 47, 96, 50,  9, 88, 15, 50, 32, 67, 95, 89, 62, 27,\n",
       "       76,  6, 89, 87, 13,  7, 76, 55, 71, 56, 56, 41, 33, 79, 98, 85, 47,\n",
       "       95, 45,  3, 52, 50, 48, 84, 24, 49, 41,  3, 13, 50, 69, 31])"
      ]
     },
     "execution_count": 3,
     "metadata": {},
     "output_type": "execute_result"
    }
   ],
   "source": [
    "x"
   ]
  },
  {
   "cell_type": "code",
   "execution_count": 4,
   "metadata": {},
   "outputs": [
    {
     "data": {
      "text/plain": [
       "array([0.30612245, 0.12244898, 0.95918367, 0.64285714, 0.80612245,\n",
       "       0.47959184, 0.01020408, 0.66326531, 0.02040816, 0.82653061,\n",
       "       0.70408163, 0.82653061, 0.12244898, 0.97959184, 1.        ,\n",
       "       0.44897959, 0.24489796, 0.34693878, 0.59183673, 0.94897959,\n",
       "       0.86734694, 0.86734694, 0.94897959, 0.02040816, 0.06122449,\n",
       "       0.53061224, 0.93877551, 0.71428571, 0.09183673, 0.10204082,\n",
       "       0.48979592, 1.        , 0.59183673, 0.18367347, 0.35714286,\n",
       "       0.66326531, 0.89795918, 0.63265306, 0.55102041, 0.60204082,\n",
       "       0.91836735, 0.13265306, 0.17346939, 0.06122449, 0.63265306,\n",
       "       0.        , 0.78571429, 0.18367347, 0.58163265, 0.        ,\n",
       "       0.92857143, 0.44897959, 0.40816327, 0.48979592, 0.78571429,\n",
       "       0.46938776, 0.96938776, 0.5       , 0.08163265, 0.8877551 ,\n",
       "       0.14285714, 0.5       , 0.31632653, 0.67346939, 0.95918367,\n",
       "       0.89795918, 0.62244898, 0.26530612, 0.76530612, 0.05102041,\n",
       "       0.89795918, 0.87755102, 0.12244898, 0.06122449, 0.76530612,\n",
       "       0.55102041, 0.71428571, 0.56122449, 0.56122449, 0.40816327,\n",
       "       0.32653061, 0.79591837, 0.98979592, 0.85714286, 0.46938776,\n",
       "       0.95918367, 0.44897959, 0.02040816, 0.52040816, 0.5       ,\n",
       "       0.47959184, 0.84693878, 0.23469388, 0.48979592, 0.40816327,\n",
       "       0.02040816, 0.12244898, 0.5       , 0.69387755, 0.30612245])"
      ]
     },
     "execution_count": 4,
     "metadata": {},
     "output_type": "execute_result"
    }
   ],
   "source": [
    "(x-np.min(x))/(np.max(x)-np.min(x))"
   ]
  },
  {
   "cell_type": "code",
   "execution_count": 5,
   "metadata": {},
   "outputs": [],
   "source": [
    "X = np.random.randint(0,100,(50,2))"
   ]
  },
  {
   "cell_type": "code",
   "execution_count": 6,
   "metadata": {},
   "outputs": [],
   "source": [
    "X = np.array(X,dtype=float)"
   ]
  },
  {
   "cell_type": "code",
   "execution_count": 8,
   "metadata": {},
   "outputs": [],
   "source": [
    "X[:,0] = (X[:,0] - np.min(X[:,0])) / (np.max(X[:,0]) - np.min(X[:,0]))\n",
    "X[:,1] = (X[:,1] - np.min(X[:,1])) / (np.max(X[:,1]) - np.min(X[:,1]))\n"
   ]
  },
  {
   "cell_type": "code",
   "execution_count": 9,
   "metadata": {},
   "outputs": [
    {
     "data": {
      "text/plain": [
       "array([[0.13402062, 0.70103093],\n",
       "       [0.57731959, 0.24742268],\n",
       "       [0.6185567 , 0.55670103],\n",
       "       [0.34020619, 0.56701031],\n",
       "       [0.92783505, 0.45360825],\n",
       "       [0.68041237, 0.69072165],\n",
       "       [0.2371134 , 0.04123711],\n",
       "       [0.96907216, 0.2371134 ],\n",
       "       [0.67010309, 0.75257732],\n",
       "       [0.78350515, 0.78350515]])"
      ]
     },
     "execution_count": 9,
     "metadata": {},
     "output_type": "execute_result"
    }
   ],
   "source": [
    "X[:10,:]"
   ]
  },
  {
   "cell_type": "code",
   "execution_count": 10,
   "metadata": {},
   "outputs": [
    {
     "data": {
      "image/png": "[encoded data removed]",
      "text/plain": [
       "<Figure size 432x288 with 1 Axes>"
      ]
     },
     "metadata": {
      "needs_background": "light"
     },
     "output_type": "display_data"
    }
   ],
   "source": [
    "plt.scatter(X[:,0], X[:,1])\n",
    "plt.show()"
   ]
  },
  {
   "cell_type": "code",
   "execution_count": 11,
   "metadata": {},
   "outputs": [
    {
     "data": {
      "text/plain": [
       "0.5538144329896907"
      ]
     },
     "execution_count": 11,
     "metadata": {},
     "output_type": "execute_result"
    }
   ],
   "source": [
    "np.mean(X[:,0])"
   ]
  },
  {
   "cell_type": "code",
   "execution_count": 12,
   "metadata": {},
   "outputs": [
    {
     "data": {
      "text/plain": [
       "0.2740953099200765"
      ]
     },
     "execution_count": 12,
     "metadata": {},
     "output_type": "execute_result"
    }
   ],
   "source": [
    "\n",
    "np.std(X[:,0])"
   ]
  },
  {
   "cell_type": "code",
   "execution_count": 13,
   "metadata": {},
   "outputs": [
    {
     "data": {
      "text/plain": [
       "0.5193814432989691"
      ]
     },
     "execution_count": 13,
     "metadata": {},
     "output_type": "execute_result"
    }
   ],
   "source": [
    "np.mean(X[:,1])"
   ]
  },
  {
   "cell_type": "code",
   "execution_count": 14,
   "metadata": {},
   "outputs": [
    {
     "data": {
      "text/plain": [
       "0.2969064289794825"
      ]
     },
     "execution_count": 14,
     "metadata": {},
     "output_type": "execute_result"
    }
   ],
   "source": [
    "np.std(X[:,1])"
   ]
  },
  {
   "cell_type": "markdown",
   "metadata": {},
   "source": [
    "## 均值方差归一化standardization"
   ]
  },
  {
   "cell_type": "code",
   "execution_count": 15,
   "metadata": {},
   "outputs": [],
   "source": [
    "X2= np.random.randint(1,100,(50,2))"
   ]
  },
  {
   "cell_type": "code",
   "execution_count": 16,
   "metadata": {},
   "outputs": [],
   "source": [
    "X2=np.array(X2,dtype=float)"
   ]
  },
  {
   "cell_type": "code",
   "execution_count": 18,
   "metadata": {},
   "outputs": [],
   "source": [
    "X2[:,0]=(X2[:,0]-np.mean(X2[:,0]))/np.std(X2[:,0])\n",
    "X2[:,1]=(X2[:,1]-np.mean(X2[:,1]))/np.std(X2[:,1])"
   ]
  },
  {
   "cell_type": "code",
   "execution_count": 19,
   "metadata": {},
   "outputs": [
    {
     "data": {
      "image/png": "[encoded data removed]",
      "text/plain": [
       "<Figure size 432x288 with 1 Axes>"
      ]
     },
     "metadata": {
      "needs_background": "light"
     },
     "output_type": "display_data"
    }
   ],
   "source": [
    "plt.scatter(X2[:,0],X2[:,1])\n",
    "plt.show()"
   ]
  },
  {
   "cell_type": "code",
   "execution_count": 21,
   "metadata": {},
   "outputs": [
    {
     "data": {
      "text/plain": [
       "-1.2323475573339239e-16"
      ]
     },
     "execution_count": 21,
     "metadata": {},
     "output_type": "execute_result"
    }
   ],
   "source": [
    "np.mean(X2[:,0])"
   ]
  },
  {
   "cell_type": "code",
   "execution_count": 22,
   "metadata": {},
   "outputs": [
    {
     "data": {
      "text/plain": [
       "1.0"
      ]
     },
     "execution_count": 22,
     "metadata": {},
     "output_type": "execute_result"
    }
   ],
   "source": [
    "np.std(X2[:,0])"
   ]
  },
  {
   "cell_type": "code",
   "execution_count": 23,
   "metadata": {},
   "outputs": [
    {
     "data": {
      "text/plain": [
       "5.329070518200751e-17"
      ]
     },
     "execution_count": 23,
     "metadata": {},
     "output_type": "execute_result"
    }
   ],
   "source": [
    "np.mean(X2[:,1])"
   ]
  },
  {
   "cell_type": "code",
   "execution_count": 24,
   "metadata": {},
   "outputs": [
    {
     "data": {
      "text/plain": [
       "1.0"
      ]
     },
     "execution_count": 24,
     "metadata": {},
     "output_type": "execute_result"
    }
   ],
   "source": [
    "np.std(X2[:,1])"
   ]
  },
  {
   "cell_type": "code",
   "execution_count": null,
   "metadata": {},
   "outputs": [],
   "source": []
  }
 ],
 "metadata": {
  "kernelspec": {
   "display_name": "Python 3",
   "language": "python",
   "name": "python3"
  },
  "language_info": {
   "codemirror_mode": {
    "name": "ipython",
    "version": 3
   },
   "file_extension": ".py",
   "mimetype": "text/x-python",
   "name": "python",
   "nbconvert_exporter": "python",
   "pygments_lexer": "ipython3",
   "version": "3.7.3"
  }
 },
 "nbformat": 4,
 "nbformat_minor": 2
}
